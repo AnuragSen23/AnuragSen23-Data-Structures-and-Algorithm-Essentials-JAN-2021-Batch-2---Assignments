{
 "cells": [
  {
   "cell_type": "markdown",
   "metadata": {},
   "source": [
    "# Assignment 3 | 20th January 2021"
   ]
  },
  {
   "cell_type": "markdown",
   "metadata": {},
   "source": [
    "### Data Structures and Algorithms with Python Essentials JAN 2021 | Batch 2 "
   ]
  },
  {
   "cell_type": "markdown",
   "metadata": {},
   "source": [
    "### Anurag Sen (as5864@srmist.edu.in) "
   ]
  },
  {
   "cell_type": "code",
   "execution_count": 2,
   "metadata": {},
   "outputs": [
    {
     "name": "stdout",
     "output_type": "stream",
     "text": [
      "Enter 1st number: 9\n",
      "Enter 2nd number: 66\n",
      "Sum is:  75\n"
     ]
    }
   ],
   "source": [
    "class Test:\n",
    "    def __init__(self):\n",
    "        self.a = None\n",
    "        \n",
    "    def Sum(self,a,b):\n",
    "        sum = a+b\n",
    "        return sum\n",
    "    \n",
    "a = int(input(\"Enter 1st number: \"))\n",
    "b = int(input(\"Enter 2nd number: \"))\n",
    "\n",
    "ob1 = Test()\n",
    "s = ob1.Sum(a,b)\n",
    "\n",
    "print(\"Sum is: \",s)"
   ]
  },
  {
   "cell_type": "code",
   "execution_count": 6,
   "metadata": {},
   "outputs": [
    {
     "name": "stdout",
     "output_type": "stream",
     "text": [
      "Enter first variable: 71\n",
      "Enter second variable: 27\n",
      "Swapped variables are:  27 71\n"
     ]
    }
   ],
   "source": [
    "a = int(input(\"Enter first variable: \"))\n",
    "b = int(input(\"Enter second variable: \"))\n",
    "\n",
    "def Swap(a,b):\n",
    "    a,b = b,a\n",
    "    print(\"Swapped variables are: \",a,b)\n",
    "    return\n",
    "\n",
    "Swap(a,b)\n"
   ]
  },
  {
   "cell_type": "code",
   "execution_count": null,
   "metadata": {},
   "outputs": [],
   "source": []
  }
 ],
 "metadata": {
  "kernelspec": {
   "display_name": "Python 3",
   "language": "python",
   "name": "python3"
  },
  "language_info": {
   "codemirror_mode": {
    "name": "ipython",
    "version": 3
   },
   "file_extension": ".py",
   "mimetype": "text/x-python",
   "name": "python",
   "nbconvert_exporter": "python",
   "pygments_lexer": "ipython3",
   "version": "3.8.3"
  }
 },
 "nbformat": 4,
 "nbformat_minor": 4
}
