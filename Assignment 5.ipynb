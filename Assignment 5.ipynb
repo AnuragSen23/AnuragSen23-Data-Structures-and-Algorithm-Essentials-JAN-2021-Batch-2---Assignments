{
 "cells": [
  {
   "cell_type": "markdown",
   "metadata": {},
   "source": [
    "# Assignment 5 | 22nd January 2021"
   ]
  },
  {
   "cell_type": "markdown",
   "metadata": {},
   "source": [
    "## Data Structures and Algorithms with Python Essentials JAN 2021 | Batch 2"
   ]
  },
  {
   "cell_type": "markdown",
   "metadata": {},
   "source": [
    "### by Anurag Sen | as5864@srmist.edu.in"
   ]
  },
  {
   "cell_type": "markdown",
   "metadata": {},
   "source": [
    "### Question 1. Name 5 sorting algorithms, also write their time complexities(best, average, worst). "
   ]
  },
  {
   "cell_type": "raw",
   "metadata": {},
   "source": [
    "Types of Sorting Algorithms: Quick Sort, Bubble Sort, Merge Sort, Insertion Sort, Selection Sort\n",
    "Time Complexities: \n",
    "Quick Sort: O(nlogn)\n",
    "Bubble Sort: O(n^2)\n",
    "Merge Sort: O(nlogn)\n",
    "Insertion Sort: O(n^2)\n",
    "Selection Sort: O(n^2) "
   ]
  },
  {
   "cell_type": "markdown",
   "metadata": {},
   "source": [
    "### Question 2. Implement selection sort algorithm using Python. "
   ]
  },
  {
   "cell_type": "code",
   "execution_count": 1,
   "metadata": {},
   "outputs": [
    {
     "name": "stdout",
     "output_type": "stream",
     "text": [
      "Enter numbers: 9 6 5 0 8 2\n",
      "sorted list:  [0, 2, 5, 6, 8, 9]\n"
     ]
    }
   ],
   "source": [
    "#Selection_Sort\n",
    "\n",
    "l = [int(i) for i in input(\"Enter numbers: \").split()]\n",
    "\n",
    "for i in range(0,len(l)):\n",
    "    pos = i  #minimum element \n",
    "    for j in range(i+1,len(l)):\n",
    "        if l[pos]>l[j]:\n",
    "            pos = j    #new minimum element\n",
    "    l[pos],l[i] = l[i],l[pos]\n",
    "print(\"sorted list: \",l)"
   ]
  },
  {
   "cell_type": "markdown",
   "metadata": {},
   "source": [
    "### Question 3. Implement pop operation of the stack "
   ]
  },
  {
   "cell_type": "code",
   "execution_count": 24,
   "metadata": {},
   "outputs": [
    {
     "name": "stdout",
     "output_type": "stream",
     "text": [
      "Enter size of the stack: 5\n",
      "30\n",
      "20\n",
      "10\n"
     ]
    }
   ],
   "source": [
    "#Stack\n",
    "\n",
    "\n",
    "def push(x):\n",
    "    global l,size,top\n",
    "    if top == size-1:\n",
    "        print(\"Overflow. Stack is Full\")\n",
    "        return\n",
    "    top = top + 1\n",
    "    l.insert(top,x)\n",
    "    \n",
    "def pop():\n",
    "    global l,size,top\n",
    "    if top == -1: #when stack is empty\n",
    "        print(\"Underflow. Stock is empty\")\n",
    "        return\n",
    "    l.pop(top)\n",
    "    top = top - 1\n",
    "def display():\n",
    "    if top == -1:\n",
    "        print(\"Underflow. Stack is empty.\")\n",
    "        return\n",
    "    for i in range(top,-1,-1):\n",
    "        print(l[i])\n",
    "        \n",
    "l = []\n",
    "size = int(input(\"Enter size of the stack: \"))\n",
    "top = -1 #initial value when stack is empty\n",
    "        \n",
    "push(10)\n",
    "push(20)\n",
    "push(30)\n",
    "\n",
    "display()"
   ]
  },
  {
   "cell_type": "code",
   "execution_count": 25,
   "metadata": {},
   "outputs": [
    {
     "name": "stdout",
     "output_type": "stream",
     "text": [
      "20\n",
      "10\n"
     ]
    }
   ],
   "source": [
    "pop()\n",
    "display()"
   ]
  },
  {
   "cell_type": "markdown",
   "metadata": {},
   "source": [
    "### Question 4. Implement dequeue operation of the queue "
   ]
  },
  {
   "cell_type": "code",
   "execution_count": 33,
   "metadata": {},
   "outputs": [
    {
     "name": "stdout",
     "output_type": "stream",
     "text": [
      "10 20 30 40 "
     ]
    }
   ],
   "source": [
    "def enqueue(x):\n",
    "    global front,rear\n",
    "    if rear == size - 1:\n",
    "        print(\"Overflow\")\n",
    "        return\n",
    "    if rear == -1:\n",
    "        rear = front = 0\n",
    "    else:\n",
    "        rear = rear + 1\n",
    "    l.insert(rear, x)\n",
    "    \n",
    "    \n",
    "def dequeue():\n",
    "    global front,rear\n",
    "    if front == -1:\n",
    "        print(\"Underflow\")\n",
    "        return\n",
    "    if front == rear:\n",
    "        front = rear = -1\n",
    "    else:\n",
    "        front = front + 1\n",
    "\n",
    "\n",
    "    \n",
    "def display():\n",
    "    global front,rear\n",
    "    if front == -1:\n",
    "        print(\"Underflow\")\n",
    "        return\n",
    "    for i in range(front,rear+1):\n",
    "        print(l[i], end = \" \")\n",
    "\n",
    "\n",
    "l = []\n",
    "size = 5\n",
    "rear = -1\n",
    "front = -1\n",
    "\n",
    "\n",
    "enqueue(10)\n",
    "enqueue(20)\n",
    "enqueue(30)\n",
    "enqueue(40)\n",
    "\n",
    "display()"
   ]
  },
  {
   "cell_type": "code",
   "execution_count": 34,
   "metadata": {},
   "outputs": [
    {
     "name": "stdout",
     "output_type": "stream",
     "text": [
      "20 30 40 "
     ]
    }
   ],
   "source": [
    "dequeue()\n",
    "display()"
   ]
  },
  {
   "cell_type": "code",
   "execution_count": null,
   "metadata": {},
   "outputs": [],
   "source": []
  }
 ],
 "metadata": {
  "kernelspec": {
   "display_name": "Python 3",
   "language": "python",
   "name": "python3"
  },
  "language_info": {
   "codemirror_mode": {
    "name": "ipython",
    "version": 3
   },
   "file_extension": ".py",
   "mimetype": "text/x-python",
   "name": "python",
   "nbconvert_exporter": "python",
   "pygments_lexer": "ipython3",
   "version": "3.8.3"
  }
 },
 "nbformat": 4,
 "nbformat_minor": 4
}
