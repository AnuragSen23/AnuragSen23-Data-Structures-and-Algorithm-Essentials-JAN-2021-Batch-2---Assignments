{
 "cells": [
  {
   "cell_type": "markdown",
   "metadata": {},
   "source": [
    "## Assignment 4 | 21st January 2021 "
   ]
  },
  {
   "cell_type": "markdown",
   "metadata": {},
   "source": [
    "### Data Structures and Algorithms with Python Essentials JAN 2021 | Batch 2 "
   ]
  },
  {
   "cell_type": "markdown",
   "metadata": {},
   "source": [
    "### by: Anurag Sen | as5864@srmist.edu.in  "
   ]
  },
  {
   "cell_type": "markdown",
   "metadata": {},
   "source": [
    "### Question 1. Implement deletion operation from the end of the linked list and Insertion operation from the beginning of the linked list"
   ]
  },
  {
   "cell_type": "code",
   "execution_count": 14,
   "metadata": {},
   "outputs": [
    {
     "name": "stdout",
     "output_type": "stream",
     "text": [
      "100 45 24 "
     ]
    }
   ],
   "source": [
    "class Node:\n",
    "    def __init__(self,data):\n",
    "        self.data = data\n",
    "        self.next = None\n",
    "\n",
    "class LinkedList:\n",
    "    def __init__(self):\n",
    "        self.head = None\n",
    "        \n",
    "    def DeleteEnd(self):\n",
    "        temp = self.head\n",
    "        while temp.next.next != None:\n",
    "            temp = temp.next\n",
    "        temp.next = None\n",
    "    \n",
    "    def InsertBeg(self,data):\n",
    "        new = Node(data)\n",
    "        new.next = self.head\n",
    "        self.head = new\n",
    "        \n",
    "    def Display(self):\n",
    "        if self.head == None:\n",
    "            print(\"Linked List mot present\")\n",
    "            return\n",
    "        temp = self.head\n",
    "        while temp != None:\n",
    "            print(temp.data, end = \" \")\n",
    "            temp = temp.next\n",
    "            \n",
    "        \n",
    "Ob = LinkedList()\n",
    "Ob.InsertBeg(\"24\")\n",
    "Ob.InsertBeg(\"45\")\n",
    "Ob.InsertBeg(\"100\")\n",
    "Ob.Display()"
   ]
  },
  {
   "cell_type": "code",
   "execution_count": 15,
   "metadata": {},
   "outputs": [
    {
     "name": "stdout",
     "output_type": "stream",
     "text": [
      "100 45 "
     ]
    }
   ],
   "source": [
    "Ob.DeleteEnd()\n",
    "Ob.Display()"
   ]
  },
  {
   "cell_type": "markdown",
   "metadata": {},
   "source": [
    "### Question 2. Implement binary search using python language. (Write a function which returns the index of x in given array arr if present, else returns -1)"
   ]
  },
  {
   "cell_type": "code",
   "execution_count": 16,
   "metadata": {},
   "outputs": [
    {
     "name": "stdout",
     "output_type": "stream",
     "text": [
      "Enter elements in list: 10 20 30 40 50 60 70 80 90\n",
      "Enter element to be searched: 50\n",
      "element found at index 4\n",
      "None\n"
     ]
    }
   ],
   "source": [
    "def BinarySearch():\n",
    "    l = [int(i) for i in input(\"Enter elements in list: \").split()]\n",
    "    x = int(input(\"Enter element to be searched: \"))\n",
    "\n",
    "    beg = 0\n",
    "    end = len(l)-1\n",
    "\n",
    "    while beg <= end:\n",
    "        mid = int((beg+end)/2)\n",
    "\n",
    "        if x == l[mid]:\n",
    "            print(\"element found at index\", mid)\n",
    "            break\n",
    "        elif x < l[mid]:\n",
    "            end = mid - 1\n",
    "        else:\n",
    "            beg = mid + 1\n",
    "    else:\n",
    "        return -1\n",
    "    \n",
    "outcome = BinarySearch()\n",
    "\n",
    "if outcome != -1:\n",
    "    print(outcome)\n",
    "else:\n",
    "    print(\"element not present\")"
   ]
  },
  {
   "cell_type": "code",
   "execution_count": 17,
   "metadata": {},
   "outputs": [
    {
     "name": "stdout",
     "output_type": "stream",
     "text": [
      "Enter elements in list: 10 20 30 40 50 60 70 80 90\n",
      "Enter element to be searched: 55\n",
      "element not present\n"
     ]
    }
   ],
   "source": [
    "def BinarySearch():\n",
    "    l = [int(i) for i in input(\"Enter elements in list: \").split()]\n",
    "    x = int(input(\"Enter element to be searched: \"))\n",
    "\n",
    "    beg = 0\n",
    "    end = len(l)-1\n",
    "\n",
    "    while beg <= end:\n",
    "        mid = int((beg+end)/2)\n",
    "\n",
    "        if x == l[mid]:\n",
    "            print(\"element found at index\", mid)\n",
    "            break\n",
    "        elif x < l[mid]:\n",
    "            end = mid - 1\n",
    "        else:\n",
    "            beg = mid + 1\n",
    "    else:\n",
    "        return -1\n",
    "    \n",
    "outcome = BinarySearch()\n",
    "\n",
    "if outcome != -1:\n",
    "    print(outcome)\n",
    "else:\n",
    "    print(\"element not present\")"
   ]
  },
  {
   "cell_type": "markdown",
   "metadata": {},
   "source": [
    "### Question 3. Write a Python program to find the middle of a linked list."
   ]
  },
  {
   "cell_type": "code",
   "execution_count": 18,
   "metadata": {},
   "outputs": [
    {
     "name": "stdout",
     "output_type": "stream",
     "text": [
      "middle element is 45\n",
      "100 45 24 "
     ]
    }
   ],
   "source": [
    "class Node:\n",
    "    def __init__(self,data):\n",
    "        self.data = data\n",
    "        self.next = None\n",
    "\n",
    "class LinkedList:\n",
    "    def __init__(self):\n",
    "        self.head = None\n",
    "        \n",
    "    def DeleteEnd(self):\n",
    "        temp = self.head\n",
    "        while temp.next.next != None:\n",
    "            temp = temp.next\n",
    "        temp.next = None\n",
    "    \n",
    "    def InsertBeg(self,data):\n",
    "        new = Node(data)\n",
    "        new.next = self.head\n",
    "        self.head = new\n",
    "        \n",
    "    def Middle(self):\n",
    "        slow = self.head\n",
    "        fast = self.head\n",
    "        \n",
    "        if self.head != None:\n",
    "            while (fast != None and fast.next != None):\n",
    "                fast = fast.next.next\n",
    "                slow = slow.next\n",
    "                print(\"middle element is\",slow.data)\n",
    "        \n",
    "    def Display(self):\n",
    "        if self.head == None:\n",
    "            print(\"Linked List mot present\")\n",
    "            return\n",
    "        temp = self.head\n",
    "        while temp != None:\n",
    "            print(temp.data, end = \" \")\n",
    "            temp = temp.next\n",
    "            \n",
    "        \n",
    "Ob = LinkedList()\n",
    "Ob.InsertBeg(\"24\")\n",
    "Ob.InsertBeg(\"45\")\n",
    "Ob.InsertBeg(\"100\")\n",
    "Ob.Middle()\n",
    "Ob.Display()"
   ]
  }
 ],
 "metadata": {
  "kernelspec": {
   "display_name": "Python 3",
   "language": "python",
   "name": "python3"
  },
  "language_info": {
   "codemirror_mode": {
    "name": "ipython",
    "version": 3
   },
   "file_extension": ".py",
   "mimetype": "text/x-python",
   "name": "python",
   "nbconvert_exporter": "python",
   "pygments_lexer": "ipython3",
   "version": "3.8.3"
  }
 },
 "nbformat": 4,
 "nbformat_minor": 4
}
