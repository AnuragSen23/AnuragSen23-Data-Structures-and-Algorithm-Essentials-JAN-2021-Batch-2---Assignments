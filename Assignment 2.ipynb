{
 "cells": [
  {
   "cell_type": "markdown",
   "metadata": {},
   "source": [
    "## Assignment 2 | 19th January 2021"
   ]
  },
  {
   "cell_type": "markdown",
   "metadata": {},
   "source": [
    "### Batch 2 | All Details | Data Structures and Algorithms with Python Essentials JAN 2021"
   ]
  },
  {
   "cell_type": "markdown",
   "metadata": {},
   "source": [
    "### by Anurag Sen (as5864@srmist.edu.in) "
   ]
  },
  {
   "cell_type": "markdown",
   "metadata": {},
   "source": [
    "**Question1**"
   ]
  },
  {
   "cell_type": "code",
   "execution_count": 1,
   "metadata": {},
   "outputs": [
    {
     "name": "stdout",
     "output_type": "stream",
     "text": [
      "Enter the number of elements in the list: 5\n",
      "Enter the 1 element of the list: 12\n",
      "Enter the 2 element of the list: 3\n",
      "Enter the 3 element of the list: 55\n",
      "Enter the 4 element of the list: 6\n",
      "Enter the 5 element of the list: 144\n",
      "List provided:  [12, 3, 55, 6, 144]\n",
      "Even numbers in the list:  [12, 6, 144]\n"
     ]
    }
   ],
   "source": [
    "doclist = []\n",
    "\n",
    "number = int(input(\"Enter the number of elements in the list: \"))\n",
    "\n",
    "for i in range(1,number+1):\n",
    "    element = int(input(\"Enter the \" + str(i) + \" element of the list: \"))\n",
    "    doclist.append(element)\n",
    "    \n",
    "print(\"List provided: \" , doclist)\n",
    "\n",
    "evenList = [num for num in doclist if num % 2 == 0] \n",
    "  \n",
    "print(\"Even numbers in the list: \", evenList)"
   ]
  },
  {
   "cell_type": "code",
   "execution_count": 2,
   "metadata": {},
   "outputs": [
    {
     "name": "stdout",
     "output_type": "stream",
     "text": [
      "Enter the number of elements in the list: 4\n",
      "Enter the 1 element of the list: 2\n",
      "Enter the 2 element of the list: 10\n",
      "Enter the 3 element of the list: 9\n",
      "Enter the 4 element of the list: 37\n",
      "List provided:  [2, 10, 9, 37]\n",
      "Even numbers in the list:  [2, 10]\n"
     ]
    }
   ],
   "source": [
    "doclist = []\n",
    "\n",
    "number = int(input(\"Enter the number of elements in the list: \"))\n",
    "\n",
    "for i in range(1,number+1):\n",
    "    element = int(input(\"Enter the \" + str(i) + \" element of the list: \"))\n",
    "    doclist.append(element)\n",
    "    \n",
    "print(\"List provided: \" , doclist)\n",
    "\n",
    "\n",
    "evenList = [num for num in doclist if num % 2 == 0] \n",
    "  \n",
    "print(\"Even numbers in the list: \", evenList)"
   ]
  },
  {
   "cell_type": "markdown",
   "metadata": {},
   "source": [
    "**Question2**"
   ]
  },
  {
   "cell_type": "code",
   "execution_count": 3,
   "metadata": {},
   "outputs": [
    {
     "name": "stdout",
     "output_type": "stream",
     "text": [
      "     1\n",
      "    22\n",
      "   333\n",
      "  4444\n",
      " 55555\n"
     ]
    }
   ],
   "source": [
    "n = 5\n",
    "for i in range(1,n+1):\n",
    "    print(\" \"*(n-i),str(i)*i)"
   ]
  },
  {
   "cell_type": "code",
   "execution_count": null,
   "metadata": {},
   "outputs": [],
   "source": []
  }
 ],
 "metadata": {
  "kernelspec": {
   "display_name": "Python 3",
   "language": "python",
   "name": "python3"
  },
  "language_info": {
   "codemirror_mode": {
    "name": "ipython",
    "version": 3
   },
   "file_extension": ".py",
   "mimetype": "text/x-python",
   "name": "python",
   "nbconvert_exporter": "python",
   "pygments_lexer": "ipython3",
   "version": "3.8.3"
  }
 },
 "nbformat": 4,
 "nbformat_minor": 4
}
